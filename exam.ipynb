{
 "cells": [
  {
   "cell_type": "markdown",
   "id": "3d580632",
   "metadata": {},
   "source": [
    "# Simplest class ever "
   ]
  },
  {
   "cell_type": "code",
   "execution_count": 2,
   "id": "e6cc1717",
   "metadata": {},
   "outputs": [],
   "source": [
    "class Bike:\n",
    "    pass"
   ]
  },
  {
   "cell_type": "markdown",
   "id": "de77e3f4",
   "metadata": {},
   "source": [
    "### What can we do with scuh class?"
   ]
  },
  {
   "cell_type": "markdown",
   "id": "bcca320c",
   "metadata": {},
   "source": [
    "1. We can create an object even if it is empty"
   ]
  },
  {
   "cell_type": "code",
   "execution_count": 3,
   "id": "9dce0ff3",
   "metadata": {},
   "outputs": [
    {
     "data": {
      "text/plain": [
       "<__main__.Bike at 0x78ec2810fa70>"
      ]
     },
     "execution_count": 3,
     "metadata": {},
     "output_type": "execute_result"
    }
   ],
   "source": [
    "Bike()"
   ]
  },
  {
   "cell_type": "markdown",
   "id": "a5ed75b7",
   "metadata": {},
   "source": [
    "2. We can create and assign the object to the variable"
   ]
  },
  {
   "cell_type": "code",
   "execution_count": null,
   "id": "b82ced48",
   "metadata": {},
   "outputs": [],
   "source": [
    "my_bike = Bike()"
   ]
  }
 ],
 "metadata": {
  "kernelspec": {
   "display_name": "Python 3",
   "language": "python",
   "name": "python3"
  },
  "language_info": {
   "codemirror_mode": {
    "name": "ipython",
    "version": 3
   },
   "file_extension": ".py",
   "mimetype": "text/x-python",
   "name": "python",
   "nbconvert_exporter": "python",
   "pygments_lexer": "ipython3",
   "version": "3.12.1"
  }
 },
 "nbformat": 4,
 "nbformat_minor": 5
}
