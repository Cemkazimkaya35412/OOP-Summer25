{
 "cells": [
  {
   "cell_type": "code",
   "execution_count": 2,
   "id": "77df33ed",
   "metadata": {},
   "outputs": [
    {
     "name": "stdout",
     "output_type": "stream",
     "text": [
      "Cem Kazim Kaya\n"
     ]
    }
   ],
   "source": [
    "print(\"Cem Kazim Kaya\")"
   ]
  },
  {
   "cell_type": "code",
   "execution_count": 6,
   "id": "e5f13454",
   "metadata": {},
   "outputs": [
    {
     "name": "stdout",
     "output_type": "stream",
     "text": [
      "6\n"
     ]
    }
   ],
   "source": [
    "x = 6\n",
    "print(x)"
   ]
  },
  {
   "cell_type": "code",
   "execution_count": 7,
   "id": "19e2d79f",
   "metadata": {},
   "outputs": [
    {
     "name": "stdout",
     "output_type": "stream",
     "text": [
      "<class 'int'>\n"
     ]
    }
   ],
   "source": [
    "print(type(x))"
   ]
  },
  {
   "cell_type": "code",
   "execution_count": 8,
   "id": "ae2bf748",
   "metadata": {},
   "outputs": [
    {
     "name": "stdout",
     "output_type": "stream",
     "text": [
      "Kedi\n"
     ]
    }
   ],
   "source": [
    "my_cat = 'Kedi'\n",
    "print(my_cat)"
   ]
  },
  {
   "cell_type": "code",
   "execution_count": 9,
   "id": "19baa780",
   "metadata": {},
   "outputs": [
    {
     "name": "stdout",
     "output_type": "stream",
     "text": [
      "<class 'str'>\n"
     ]
    }
   ],
   "source": [
    "print(type(my_cat))"
   ]
  },
  {
   "cell_type": "code",
   "execution_count": null,
   "id": "f3584242",
   "metadata": {},
   "outputs": [],
   "source": [
    "countries = ['poland', 'Turkey', 'Germany', 'Uganda', 'Zimbabwe']"
   ]
  }
 ],
 "metadata": {
  "kernelspec": {
   "display_name": "Python 3",
   "language": "python",
   "name": "python3"
  },
  "language_info": {
   "codemirror_mode": {
    "name": "ipython",
    "version": 3
   },
   "file_extension": ".py",
   "mimetype": "text/x-python",
   "name": "python",
   "nbconvert_exporter": "python",
   "pygments_lexer": "ipython3",
   "version": "3.12.1"
  }
 },
 "nbformat": 4,
 "nbformat_minor": 5
}
